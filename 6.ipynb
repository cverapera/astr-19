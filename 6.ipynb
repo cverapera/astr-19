{
 "cells": [
  {
   "cell_type": "code",
   "execution_count": 7,
   "id": "bf763fe0-52fd-4655-aed9-b108cfc41768",
   "metadata": {},
   "outputs": [],
   "source": [
    "import numpy as np\n",
    "\n",
    "def my_sin(x):\n",
    "    \"\"\"\n",
    "    Returns the sine of x.\n",
    "    \"\"\"\n",
    "    return np.sin(x)   # correct function call\n"
   ]
  },
  {
   "cell_type": "markdown",
   "id": "11527d56-fa97-4d01-8593-b029eb24de08",
   "metadata": {},
   "source": [
    "## Function: my_sin(x)\n",
    "This function takes a numeric input 'x' and returns the sine of 'x' using NumPy's 'sin' function."
   ]
  },
  {
   "cell_type": "code",
   "execution_count": 5,
   "id": "27bf5a95-da51-49d2-a82d-8cc4b32855a3",
   "metadata": {},
   "outputs": [],
   "source": [
    "def my_cos(x):\n",
    "    \"\"\"\n",
    "    Returns the cosine of x.\n",
    "    \"\"\"\n",
    "    return np.cos(x)\n",
    "    "
   ]
  },
  {
   "cell_type": "markdown",
   "id": "b5846046-db55-491b-aef6-4131214c060f",
   "metadata": {},
   "source": [
    "##  Function: my_cos(x)\n",
    "This function takes a numeric input 'x' and returns the cosine of 'x' using NumPy's 'cos' function"
   ]
  },
  {
   "cell_type": "code",
   "execution_count": 8,
   "id": "6ef4a02f-d1a1-477a-a152-5b87280bf879",
   "metadata": {
    "scrolled": true
   },
   "outputs": [],
   "source": [
    "# Create an array of 1000 points between 0 and 2\n",
    "x_values = np.linspace(0, 2, 1000)\n",
    "\n",
    "# Compute sin(x) and cos(x) for each x using the defined functions\n",
    "sin_values = my_sin(x_values)\n",
    "cos_values = my_cos(x_values)"
   ]
  },
  {
   "cell_type": "markdown",
   "id": "84332181-f39e-4253-85e8-ca88a66fb9ff",
   "metadata": {},
   "source": [
    "## Tabulating Values\n",
    "\n",
    "In this cell, we create an array `x_values` of 1000 points between 0 and 2. We then compute the sine and cosine of each value using the previously defined `my_sin` and `my_cos` functions."
   ]
  },
  {
   "cell_type": "code",
   "execution_count": 9,
   "id": "555a59ef-f120-49b0-912e-b78cd5315ee0",
   "metadata": {},
   "outputs": [
    {
     "name": "stdout",
     "output_type": "stream",
     "text": [
      "         x          sin(x)          cos(x)\n",
      "  0.000000        0.000000        1.000000\n",
      "  0.002002        0.002002        0.999998\n",
      "  0.004004        0.004004        0.999992\n",
      "  0.006006        0.006006        0.999982\n",
      "  0.008008        0.008008        0.999968\n",
      "  0.010010        0.010010        0.999950\n",
      "  0.012012        0.012012        0.999928\n",
      "  0.014014        0.014014        0.999902\n",
      "  0.016016        0.016015        0.999872\n",
      "  0.018018        0.018017        0.999838\n"
     ]
    }
   ],
   "source": [
    "# Print headers\n",
    "print(f\"{'x':>10} {'sin(x)':>15} {'cos(x)':>15}\")\n",
    "\n",
    "# Print first 10 values\n",
    "for i in range(10):\n",
    "    print(f\"{x_values[i]:10.6f} {sin_values[i]:15.6f} {cos_values[i]:15.6f}\")\n"
   ]
  },
  {
   "cell_type": "markdown",
   "id": "61364dbb-c970-464e-90ce-837bffd3ddc3",
   "metadata": {},
   "source": [
    "## Display First 10 Values\n",
    "\n",
    "This cell uses a for loop to print the first 10 values of `x`, `sin(x)`, and `cos(x)` in a neatly formatted table."
   ]
  }
 ],
 "metadata": {
  "kernelspec": {
   "display_name": "Python 3 (ipykernel)",
   "language": "python",
   "name": "python3"
  },
  "language_info": {
   "codemirror_mode": {
    "name": "ipython",
    "version": 3
   },
   "file_extension": ".py",
   "mimetype": "text/x-python",
   "name": "python",
   "nbconvert_exporter": "python",
   "pygments_lexer": "ipython3",
   "version": "3.14.0"
  }
 },
 "nbformat": 4,
 "nbformat_minor": 5
}
